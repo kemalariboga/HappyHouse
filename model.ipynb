{
 "cells": [
  {
   "cell_type": "code",
   "execution_count": 20,
   "metadata": {},
   "outputs": [],
   "source": [
    "import math, h5py, scipy\n",
    "import numpy as np\n",
    "import seaborn as sns\n",
    "import matplotlib.pyplot as plt\n",
    "import tensorflow as tf\n",
    "import tensorflow.keras.layers as tfl\n",
    "from keras.layers.normalization import BatchNormalization\n",
    "from sklearn.model_selection import train_test_split\n",
    "from sklearn.metrics import accuracy_score, confusion_matrix, recall_score, precision_score, f1_score"
   ]
  },
  {
   "cell_type": "code",
   "execution_count": 21,
   "metadata": {},
   "outputs": [
    {
     "data": {
      "text/plain": [
       "<KeysViewHDF5 ['list_classes', 'train_set_x', 'train_set_y']>"
      ]
     },
     "execution_count": 21,
     "metadata": {},
     "output_type": "execute_result"
    }
   ],
   "source": [
    "train_data = h5py.File('train_happy.h5', \"r\")\n",
    "train_data.keys()"
   ]
  },
  {
   "cell_type": "code",
   "execution_count": 22,
   "metadata": {},
   "outputs": [
    {
     "data": {
      "text/plain": [
       "<KeysViewHDF5 ['list_classes', 'test_set_x', 'test_set_y']>"
      ]
     },
     "execution_count": 22,
     "metadata": {},
     "output_type": "execute_result"
    }
   ],
   "source": [
    "test_data = h5py.File('test_happy.h5', \"r\")\n",
    "test_data.keys()"
   ]
  },
  {
   "cell_type": "code",
   "execution_count": 23,
   "metadata": {},
   "outputs": [
    {
     "data": {
      "text/plain": [
       "<HDF5 dataset \"train_set_x\": shape (600, 64, 64, 3), type \"|u1\">"
      ]
     },
     "execution_count": 23,
     "metadata": {},
     "output_type": "execute_result"
    }
   ],
   "source": [
    "train_data[\"train_set_x\"]"
   ]
  },
  {
   "cell_type": "code",
   "execution_count": 24,
   "metadata": {},
   "outputs": [
    {
     "data": {
      "text/plain": [
       "array([[[[178, 190, 163],\n",
       "         [172, 181, 173],\n",
       "         [188, 196, 184],\n",
       "         ...,\n",
       "         [255, 255, 254],\n",
       "         [254, 255, 250],\n",
       "         [249, 253, 222]],\n",
       "\n",
       "        [[184, 201, 165],\n",
       "         [149, 154, 142],\n",
       "         [149, 158, 139],\n",
       "         ...,\n",
       "         [255, 255, 253],\n",
       "         [254, 255, 250],\n",
       "         [251, 255, 230]],\n",
       "\n",
       "        [[198, 207, 165],\n",
       "         [141, 147, 128],\n",
       "         [168, 184, 154],\n",
       "         ...,\n",
       "         [253, 255, 244],\n",
       "         [254, 255, 248],\n",
       "         [253, 255, 233]],\n",
       "\n",
       "        ...,\n",
       "\n",
       "        [[ 77,  82,  89],\n",
       "         [ 60,  64,  68],\n",
       "         [ 49,  53,  55],\n",
       "         ...,\n",
       "         [ 31,  32,  30],\n",
       "         [ 47,  48,  46],\n",
       "         [ 75,  75,  75]],\n",
       "\n",
       "        [[ 68,  71,  76],\n",
       "         [ 55,  58,  59],\n",
       "         [ 44,  47,  47],\n",
       "         ...,\n",
       "         [ 30,  31,  29],\n",
       "         [ 40,  41,  39],\n",
       "         [ 63,  64,  63]],\n",
       "\n",
       "        [[ 61,  64,  66],\n",
       "         [ 52,  54,  54],\n",
       "         [ 45,  47,  46],\n",
       "         ...,\n",
       "         [ 30,  31,  29],\n",
       "         [ 38,  38,  36],\n",
       "         [ 56,  56,  54]]],\n",
       "\n",
       "\n",
       "       [[[193, 204, 168],\n",
       "         [188, 203, 155],\n",
       "         [215, 227, 181],\n",
       "         ...,\n",
       "         [219, 215, 208],\n",
       "         [191, 185, 170],\n",
       "         [173, 165, 142]],\n",
       "\n",
       "        [[201, 213, 182],\n",
       "         [200, 214, 169],\n",
       "         [204, 215, 164],\n",
       "         ...,\n",
       "         [254, 254, 252],\n",
       "         [224, 231, 222],\n",
       "         [201, 212, 184]],\n",
       "\n",
       "        [[204, 213, 178],\n",
       "         [211, 220, 184],\n",
       "         [207, 215, 175],\n",
       "         ...,\n",
       "         [242, 248, 240],\n",
       "         [200, 219, 197],\n",
       "         [184, 204, 176]],\n",
       "\n",
       "        ...,\n",
       "\n",
       "        [[167, 185, 199],\n",
       "         [135, 149, 174],\n",
       "         [118, 127, 147],\n",
       "         ...,\n",
       "         [ 36,  31,  28],\n",
       "         [ 36,  31,  28],\n",
       "         [ 34,  31,  27]],\n",
       "\n",
       "        [[139, 154, 179],\n",
       "         [115, 126, 145],\n",
       "         [104, 111, 125],\n",
       "         ...,\n",
       "         [ 35,  30,  27],\n",
       "         [ 35,  30,  27],\n",
       "         [ 37,  33,  29]],\n",
       "\n",
       "        [[119, 130, 149],\n",
       "         [104, 110, 124],\n",
       "         [ 93,  98, 108],\n",
       "         ...,\n",
       "         [ 34,  29,  26],\n",
       "         [ 33,  29,  25],\n",
       "         [ 37,  33,  29]]],\n",
       "\n",
       "\n",
       "       [[[ 82,  97,  50],\n",
       "         [ 77,  92,  58],\n",
       "         [ 82,  93,  62],\n",
       "         ...,\n",
       "         [112, 128,  74],\n",
       "         [126, 144,  86],\n",
       "         [118, 134,  78]],\n",
       "\n",
       "        [[ 69,  79,  48],\n",
       "         [ 79,  89,  58],\n",
       "         [ 89,  98,  68],\n",
       "         ...,\n",
       "         [116, 134,  78],\n",
       "         [119, 136,  83],\n",
       "         [114, 129,  77]],\n",
       "\n",
       "        [[ 77,  83,  54],\n",
       "         [ 79,  84,  58],\n",
       "         [ 82,  88,  62],\n",
       "         ...,\n",
       "         [126, 142,  84],\n",
       "         [119, 132,  84],\n",
       "         [126, 139,  97]],\n",
       "\n",
       "        ...,\n",
       "\n",
       "        [[ 30,  34,  25],\n",
       "         [ 37,  40,  29],\n",
       "         [ 29,  35,  27],\n",
       "         ...,\n",
       "         [ 14,  14,  11],\n",
       "         [ 14,  14,  12],\n",
       "         [ 13,  14,  11]],\n",
       "\n",
       "        [[ 45,  47,  33],\n",
       "         [ 38,  42,  32],\n",
       "         [ 35,  41,  32],\n",
       "         ...,\n",
       "         [ 13,  13,  11],\n",
       "         [ 13,  13,  11],\n",
       "         [ 13,  13,  11]],\n",
       "\n",
       "        [[ 43,  46,  32],\n",
       "         [ 36,  41,  32],\n",
       "         [ 58,  60,  46],\n",
       "         ...,\n",
       "         [ 13,  13,  11],\n",
       "         [ 12,  13,  11],\n",
       "         [ 13,  13,  10]]],\n",
       "\n",
       "\n",
       "       ...,\n",
       "\n",
       "\n",
       "       [[[204, 195, 158],\n",
       "         [215, 205, 173],\n",
       "         [212, 206, 166],\n",
       "         ...,\n",
       "         [255, 255, 254],\n",
       "         [255, 255, 255],\n",
       "         [255, 255, 255]],\n",
       "\n",
       "        [[212, 200, 163],\n",
       "         [217, 207, 170],\n",
       "         [210, 203, 167],\n",
       "         ...,\n",
       "         [255, 255, 253],\n",
       "         [254, 254, 254],\n",
       "         [233, 240, 239]],\n",
       "\n",
       "        [[216, 208, 170],\n",
       "         [204, 195, 160],\n",
       "         [219, 215, 177],\n",
       "         ...,\n",
       "         [255, 255, 255],\n",
       "         [250, 250, 248],\n",
       "         [215, 221, 219]],\n",
       "\n",
       "        ...,\n",
       "\n",
       "        [[255, 255, 253],\n",
       "         [255, 255, 255],\n",
       "         [255, 255, 255],\n",
       "         ...,\n",
       "         [105,  71,  49],\n",
       "         [110,  76,  52],\n",
       "         [112,  77,  52]],\n",
       "\n",
       "        [[255, 255, 247],\n",
       "         [255, 255, 255],\n",
       "         [255, 255, 255],\n",
       "         ...,\n",
       "         [ 97,  67,  47],\n",
       "         [102,  70,  49],\n",
       "         [103,  71,  49]],\n",
       "\n",
       "        [[255, 255, 252],\n",
       "         [255, 255, 255],\n",
       "         [255, 255, 255],\n",
       "         ...,\n",
       "         [ 88,  61,  44],\n",
       "         [ 92,  64,  45],\n",
       "         [ 95,  66,  45]]],\n",
       "\n",
       "\n",
       "       [[[245, 249, 239],\n",
       "         [251, 253, 247],\n",
       "         [245, 249, 239],\n",
       "         ...,\n",
       "         [255, 255, 255],\n",
       "         [255, 255, 255],\n",
       "         [255, 255, 255]],\n",
       "\n",
       "        [[245, 249, 235],\n",
       "         [249, 253, 238],\n",
       "         [244, 250, 234],\n",
       "         ...,\n",
       "         [255, 255, 255],\n",
       "         [255, 255, 255],\n",
       "         [255, 255, 255]],\n",
       "\n",
       "        [[229, 240, 216],\n",
       "         [235, 243, 218],\n",
       "         [234, 242, 224],\n",
       "         ...,\n",
       "         [255, 255, 255],\n",
       "         [255, 255, 255],\n",
       "         [255, 255, 255]],\n",
       "\n",
       "        ...,\n",
       "\n",
       "        [[253, 254, 239],\n",
       "         [182, 196, 155],\n",
       "         [123, 145, 102],\n",
       "         ...,\n",
       "         [ 60,  67,  62],\n",
       "         [ 63,  70,  64],\n",
       "         [ 67,  75,  67]],\n",
       "\n",
       "        [[254, 254, 237],\n",
       "         [191, 202, 173],\n",
       "         [121, 142, 100],\n",
       "         ...,\n",
       "         [ 56,  61,  57],\n",
       "         [ 59,  65,  59],\n",
       "         [ 62,  69,  62]],\n",
       "\n",
       "        [[254, 254, 230],\n",
       "         [197, 208, 178],\n",
       "         [119, 141,  98],\n",
       "         ...,\n",
       "         [ 51,  57,  52],\n",
       "         [ 54,  60,  55],\n",
       "         [ 58,  64,  57]]],\n",
       "\n",
       "\n",
       "       [[[252, 253, 248],\n",
       "         [254, 255, 252],\n",
       "         [254, 254, 253],\n",
       "         ...,\n",
       "         [255, 255, 255],\n",
       "         [255, 255, 255],\n",
       "         [255, 255, 255]],\n",
       "\n",
       "        [[250, 252, 245],\n",
       "         [251, 253, 246],\n",
       "         [252, 253, 247],\n",
       "         ...,\n",
       "         [255, 255, 255],\n",
       "         [255, 255, 255],\n",
       "         [255, 255, 255]],\n",
       "\n",
       "        [[247, 249, 239],\n",
       "         [237, 240, 226],\n",
       "         [245, 246, 233],\n",
       "         ...,\n",
       "         [255, 255, 255],\n",
       "         [255, 255, 255],\n",
       "         [255, 255, 255]],\n",
       "\n",
       "        ...,\n",
       "\n",
       "        [[254, 255, 244],\n",
       "         [255, 255, 249],\n",
       "         [255, 255, 246],\n",
       "         ...,\n",
       "         [234, 245, 192],\n",
       "         [230, 234, 198],\n",
       "         [233, 238, 200]],\n",
       "\n",
       "        [[254, 255, 247],\n",
       "         [255, 255, 248],\n",
       "         [254, 254, 227],\n",
       "         ...,\n",
       "         [247, 250, 226],\n",
       "         [240, 245, 214],\n",
       "         [228, 236, 193]],\n",
       "\n",
       "        [[254, 255, 242],\n",
       "         [255, 255, 250],\n",
       "         [254, 254, 238],\n",
       "         ...,\n",
       "         [248, 248, 233],\n",
       "         [236, 242, 194],\n",
       "         [230, 238, 186]]]], dtype=uint8)"
      ]
     },
     "execution_count": 24,
     "metadata": {},
     "output_type": "execute_result"
    }
   ],
   "source": [
    "train_data[\"train_set_x\"][:]"
   ]
  },
  {
   "cell_type": "code",
   "execution_count": 25,
   "metadata": {},
   "outputs": [],
   "source": [
    "x_train = np.array(train_data[\"train_set_x\"][:]) \n",
    "y_train = np.array(train_data[\"train_set_y\"][:]) \n",
    "\n",
    "x_test = np.array(test_data[\"test_set_x\"][:])\n",
    "y_test = np.array(test_data[\"test_set_y\"][:])"
   ]
  },
  {
   "cell_type": "code",
   "execution_count": 26,
   "metadata": {},
   "outputs": [
    {
     "name": "stdout",
     "output_type": "stream",
     "text": [
      "x_train:  (600, 64, 64, 3)\n",
      "y_train:  (600,)\n",
      "x_test:  (150, 64, 64, 3)\n",
      "y_test:  (150,)\n"
     ]
    }
   ],
   "source": [
    "print(\"x_train: \", x_train.shape)\n",
    "print(\"y_train: \", y_train.shape)\n",
    "print(\"x_test: \", x_test.shape)\n",
    "print(\"y_test: \", y_test.shape)"
   ]
  },
  {
   "cell_type": "code",
   "execution_count": 27,
   "metadata": {},
   "outputs": [],
   "source": [
    "y_train = y_train.reshape((1, y_train.shape[0]))\n",
    "y_test = y_test.reshape((1, y_test.shape[0]))"
   ]
  },
  {
   "cell_type": "code",
   "execution_count": 28,
   "metadata": {},
   "outputs": [
    {
     "name": "stdout",
     "output_type": "stream",
     "text": [
      "y_train:  (1, 600)\n",
      "y_test:  (1, 150)\n"
     ]
    }
   ],
   "source": [
    "print(\"y_train: \", y_train.shape)\n",
    "print(\"y_test: \", y_test.shape)"
   ]
  },
  {
   "cell_type": "code",
   "execution_count": 29,
   "metadata": {},
   "outputs": [
    {
     "data": {
      "text/plain": [
       "<matplotlib.image.AxesImage at 0x1adb58bc1c0>"
      ]
     },
     "execution_count": 29,
     "metadata": {},
     "output_type": "execute_result"
    },
    {
     "data": {
      "image/png": "[encoded data removed]",
      "text/plain": [
       "<Figure size 432x288 with 1 Axes>"
      ]
     },
     "metadata": {
      "needs_background": "light"
     },
     "output_type": "display_data"
    }
   ],
   "source": [
    "plt.imshow(x_train[2])"
   ]
  },
  {
   "cell_type": "code",
   "execution_count": 30,
   "metadata": {},
   "outputs": [],
   "source": [
    "x_train = x_train/255. #normalizing the image vectors\n",
    "x_test = x_test/255. #normalizing the image vectors\n",
    "y_train = y_train.T\n",
    "y_test = y_test.T"
   ]
  },
  {
   "cell_type": "code",
   "execution_count": 31,
   "metadata": {},
   "outputs": [
    {
     "name": "stdout",
     "output_type": "stream",
     "text": [
      "x_train:  (600, 64, 64, 3)\n",
      "y_train:  (600, 1)\n",
      "x_test:  (150, 64, 64, 3)\n",
      "y_test:  (150, 1)\n"
     ]
    }
   ],
   "source": [
    "print(\"x_train: \", x_train.shape)\n",
    "print(\"y_train: \", y_train.shape)\n",
    "print(\"x_test: \", x_test.shape)\n",
    "print(\"y_test: \", y_test.shape)"
   ]
  },
  {
   "cell_type": "code",
   "execution_count": 33,
   "metadata": {},
   "outputs": [],
   "source": [
    "model = tf.keras.Sequential([\n",
    "    tfl.ZeroPadding2D(padding=(3,3), input_shape=(64,64,3), data_format=\"channels_last\"),\n",
    "    tfl.Conv2D(filters=32,kernel_size=(7,7),strides=(1,1)),\n",
    "    tfl.MaxPool2D(),\n",
    "    tfl.Conv2D(filters=32,kernel_size=(7,7),strides=(1,1)),\n",
    "    tfl.MaxPool2D(),\n",
    "    tfl.BatchNormalization(axis=3),\n",
    "    tfl.ReLU(),\n",
    "    tfl.MaxPool2D(),\n",
    "    tfl.Flatten(),\n",
    "    tfl.Dense(units=1,activation='sigmoid')\n",
    "    ])"
   ]
  },
  {
   "cell_type": "code",
   "execution_count": 34,
   "metadata": {},
   "outputs": [],
   "source": [
    "model.compile(optimizer='adam',loss='binary_crossentropy',metrics=['accuracy'])"
   ]
  },
  {
   "cell_type": "code",
   "execution_count": 35,
   "metadata": {},
   "outputs": [
    {
     "name": "stdout",
     "output_type": "stream",
     "text": [
      "Model: \"sequential_1\"\n",
      "_________________________________________________________________\n",
      "Layer (type)                 Output Shape              Param #   \n",
      "=================================================================\n",
      "zero_padding2d_1 (ZeroPaddin (None, 70, 70, 3)         0         \n",
      "_________________________________________________________________\n",
      "conv2d_2 (Conv2D)            (None, 64, 64, 32)        4736      \n",
      "_________________________________________________________________\n",
      "max_pooling2d_3 (MaxPooling2 (None, 32, 32, 32)        0         \n",
      "_________________________________________________________________\n",
      "conv2d_3 (Conv2D)            (None, 26, 26, 32)        50208     \n",
      "_________________________________________________________________\n",
      "max_pooling2d_4 (MaxPooling2 (None, 13, 13, 32)        0         \n",
      "_________________________________________________________________\n",
      "batch_normalization_1 (Batch (None, 13, 13, 32)        128       \n",
      "_________________________________________________________________\n",
      "re_lu_1 (ReLU)               (None, 13, 13, 32)        0         \n",
      "_________________________________________________________________\n",
      "max_pooling2d_5 (MaxPooling2 (None, 6, 6, 32)          0         \n",
      "_________________________________________________________________\n",
      "flatten_1 (Flatten)          (None, 1152)              0         \n",
      "_________________________________________________________________\n",
      "dense_1 (Dense)              (None, 1)                 1153      \n",
      "=================================================================\n",
      "Total params: 56,225\n",
      "Trainable params: 56,161\n",
      "Non-trainable params: 64\n",
      "_________________________________________________________________\n"
     ]
    }
   ],
   "source": [
    "model.summary()"
   ]
  },
  {
   "cell_type": "code",
   "execution_count": 36,
   "metadata": {},
   "outputs": [
    {
     "name": "stdout",
     "output_type": "stream",
     "text": [
      "Epoch 1/20\n",
      "38/38 [==============================] - 7s 157ms/step - loss: 0.6268 - accuracy: 0.6950\n",
      "Epoch 2/20\n",
      "38/38 [==============================] - 6s 149ms/step - loss: 0.3861 - accuracy: 0.8767\n",
      "Epoch 3/20\n",
      "38/38 [==============================] - 6s 151ms/step - loss: 0.2699 - accuracy: 0.9200\n",
      "Epoch 4/20\n",
      "38/38 [==============================] - 6s 151ms/step - loss: 0.2012 - accuracy: 0.9317\n",
      "Epoch 5/20\n",
      "38/38 [==============================] - 6s 151ms/step - loss: 0.1617 - accuracy: 0.9600\n",
      "Epoch 6/20\n",
      "38/38 [==============================] - 6s 152ms/step - loss: 0.1071 - accuracy: 0.9717\n",
      "Epoch 7/20\n",
      "38/38 [==============================] - 6s 151ms/step - loss: 0.0750 - accuracy: 0.9900\n",
      "Epoch 8/20\n",
      "38/38 [==============================] - 6s 153ms/step - loss: 0.0543 - accuracy: 0.9900\n",
      "Epoch 9/20\n",
      "38/38 [==============================] - 6s 152ms/step - loss: 0.0436 - accuracy: 0.9933\n",
      "Epoch 10/20\n",
      "38/38 [==============================] - 6s 150ms/step - loss: 0.0372 - accuracy: 0.99330s - loss: 0.0378 - ac\n",
      "Epoch 11/20\n",
      "38/38 [==============================] - 6s 151ms/step - loss: 0.0363 - accuracy: 0.9950\n",
      "Epoch 12/20\n",
      "38/38 [==============================] - 6s 149ms/step - loss: 0.0224 - accuracy: 0.9967\n",
      "Epoch 13/20\n",
      "38/38 [==============================] - 6s 158ms/step - loss: 0.0327 - accuracy: 0.9933\n",
      "Epoch 14/20\n",
      "38/38 [==============================] - 6s 150ms/step - loss: 0.0214 - accuracy: 0.9950\n",
      "Epoch 15/20\n",
      "38/38 [==============================] - 6s 149ms/step - loss: 0.0211 - accuracy: 0.9967\n",
      "Epoch 16/20\n",
      "38/38 [==============================] - 6s 144ms/step - loss: 0.0195 - accuracy: 0.9967\n",
      "Epoch 17/20\n",
      "38/38 [==============================] - 6s 152ms/step - loss: 0.0357 - accuracy: 0.9933\n",
      "Epoch 18/20\n",
      "38/38 [==============================] - 6s 160ms/step - loss: 0.0145 - accuracy: 0.9983\n",
      "Epoch 19/20\n",
      "38/38 [==============================] - 7s 185ms/step - loss: 0.0099 - accuracy: 0.99833s - loss: 0.006 - ETA: 1s - loss: 0.0100 - accu - ETA: 0s - loss: 0.0099 - accuracy: 0.\n",
      "Epoch 20/20\n",
      "38/38 [==============================] - 6s 159ms/step - loss: 0.0060 - accuracy: 1.0000\n"
     ]
    },
    {
     "data": {
      "text/plain": [
       "<tensorflow.python.keras.callbacks.History at 0x1adaf13ed30>"
      ]
     },
     "execution_count": 36,
     "metadata": {},
     "output_type": "execute_result"
    }
   ],
   "source": [
    "model.fit(x_train,y_train,epochs=20,batch_size=16)"
   ]
  },
  {
   "cell_type": "code",
   "execution_count": 37,
   "metadata": {},
   "outputs": [
    {
     "name": "stdout",
     "output_type": "stream",
     "text": [
      "5/5 [==============================] - 1s 63ms/step - loss: 0.0863 - accuracy: 0.9600\n"
     ]
    },
    {
     "data": {
      "text/plain": [
       "[0.0863405391573906, 0.9599999785423279]"
      ]
     },
     "execution_count": 37,
     "metadata": {},
     "output_type": "execute_result"
    }
   ],
   "source": [
    "model.evaluate(x_test,y_test)"
   ]
  }
 ],
 "metadata": {
  "interpreter": {
   "hash": "ac59ebe37160ed0dfa835113d9b8498d9f09ceb179beaac4002f036b9467c963"
  },
  "kernelspec": {
   "display_name": "Python 3.9.1 64-bit",
   "language": "python",
   "name": "python3"
  },
  "language_info": {
   "codemirror_mode": {
    "name": "ipython",
    "version": 3
   },
   "file_extension": ".py",
   "mimetype": "text/x-python",
   "name": "python",
   "nbconvert_exporter": "python",
   "pygments_lexer": "ipython3",
   "version": "3.9.1"
  },
  "orig_nbformat": 4
 },
 "nbformat": 4,
 "nbformat_minor": 2
}
